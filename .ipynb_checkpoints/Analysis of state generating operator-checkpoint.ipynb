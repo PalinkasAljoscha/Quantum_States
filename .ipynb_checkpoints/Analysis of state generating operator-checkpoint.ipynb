{
 "cells": [
  {
   "cell_type": "markdown",
   "metadata": {},
   "source": [
    "### State generation and swap product\n"
   ]
  },
  {
   "cell_type": "code",
   "execution_count": 2,
   "metadata": {},
   "outputs": [],
   "source": [
    "import cirq\n",
    "import numpy as np\n",
    "import sys\n",
    "\n",
    "sys.path.append(\"C:/Users/Alj/CODING/projects/Quantum_Computing\")\n",
    "from state_generation import StateMaker"
   ]
  },
  {
   "cell_type": "code",
   "execution_count": 2,
   "metadata": {},
   "outputs": [],
   "source": []
  },
  {
   "cell_type": "code",
   "execution_count": 2,
   "metadata": {},
   "outputs": [
    {
     "name": "stdout",
     "output_type": "stream",
     "text": [
      "NOTICE: do not print/show the symbolic operator in notebook, it would make it crash, since too large - just print single column instead\n",
      "arguments of state_generator: (phi_0, phi_1, phi_2, phi_3, phi_4, phi_5)\n"
     ]
    }
   ],
   "source": [
    "sm = StateMaker()"
   ]
  },
  {
   "cell_type": "code",
   "execution_count": 1,
   "metadata": {},
   "outputs": [
    {
     "ename": "NameError",
     "evalue": "name 'sphere_samples' is not defined",
     "output_type": "error",
     "traceback": [
      "\u001b[1;31m---------------------------------------------------------------------------\u001b[0m",
      "\u001b[1;31mNameError\u001b[0m                                 Traceback (most recent call last)",
      "\u001b[1;32m<ipython-input-1-ef6717d72e3f>\u001b[0m in \u001b[0;36m<module>\u001b[1;34m\u001b[0m\n\u001b[1;32m----> 1\u001b[1;33m \u001b[0mtarget\u001b[0m \u001b[1;33m=\u001b[0m \u001b[0msphere_samples\u001b[0m\u001b[1;33m(\u001b[0m\u001b[0mn_dim\u001b[0m\u001b[1;33m=\u001b[0m\u001b[1;36m2\u001b[0m\u001b[1;33m**\u001b[0m\u001b[0mn\u001b[0m\u001b[1;33m,\u001b[0m \u001b[0mn_samples\u001b[0m\u001b[1;33m=\u001b[0m\u001b[1;36m1\u001b[0m\u001b[1;33m,\u001b[0m \u001b[0msubset\u001b[0m\u001b[1;33m=\u001b[0m\u001b[1;34m\"non-negative\"\u001b[0m\u001b[1;33m)\u001b[0m\u001b[1;33m.\u001b[0m\u001b[0mflatten\u001b[0m\u001b[1;33m(\u001b[0m\u001b[1;33m)\u001b[0m\u001b[1;33m\u001b[0m\u001b[1;33m\u001b[0m\u001b[0m\n\u001b[0m\u001b[0;32m      2\u001b[0m \u001b[0mtarget\u001b[0m\u001b[1;33m\u001b[0m\u001b[1;33m\u001b[0m\u001b[0m\n",
      "\u001b[1;31mNameError\u001b[0m: name 'sphere_samples' is not defined"
     ]
    }
   ],
   "source": [
    "target = sphere_samples(n_dim=2**n, n_samples=1, subset=\"non-negative\").flatten()\n",
    "target"
   ]
  },
  {
   "cell_type": "code",
   "execution_count": 4,
   "metadata": {},
   "outputs": [
    {
     "name": "stdout",
     "output_type": "stream",
     "text": [
      "target vector was scaled by  0.07001400420140048  to be unit vector\n",
      "target vector was scaled by  0.1  to be unit vector\n"
     ]
    }
   ],
   "source": [
    "t1 = np.array([1,2,3,4,5,6,7,8])\n",
    "t2 = np.array([5,5,5,5,0,0,0,0])\n",
    "\n",
    "res1 = sm.approx_target_state(t1)\n",
    "res2 = sm.approx_target_state(t2)"
   ]
  },
  {
   "cell_type": "code",
   "execution_count": 5,
   "metadata": {},
   "outputs": [
    {
     "name": "stdout",
     "output_type": "stream",
     "text": [
      "vectors have dot product of  0.3500963070465385\n"
     ]
    }
   ],
   "source": [
    "true_dotprod = np.abs(np.vdot(res1[\"state_approx\"], res2[\"state_approx\"]))\n",
    "print(\"vectors have dot product of \", true_dotprod)"
   ]
  },
  {
   "cell_type": "code",
   "execution_count": 6,
   "metadata": {},
   "outputs": [],
   "source": [
    "#\n",
    "c1 = sm.get_state_gen_circuit(res1[\"arg_angles\"])\n",
    "c2 = sm.get_state_gen_circuit(res2[\"arg_angles\"])\n",
    "\n",
    "# shift qbits of one circuit to avoid duplicate qbits in swap test\n",
    "def shift_qbits(qbit):\n",
    "    row = qbit.row\n",
    "    return cirq.GridQubit(row+3, 0)\n",
    "c1 = c1.transform_qubits(shift_qbits)"
   ]
  },
  {
   "cell_type": "code",
   "execution_count": null,
   "metadata": {},
   "outputs": [],
   "source": [
    "\n"
   ]
  },
  {
   "cell_type": "code",
   "execution_count": 59,
   "metadata": {},
   "outputs": [],
   "source": []
  },
  {
   "cell_type": "code",
   "execution_count": 7,
   "metadata": {},
   "outputs": [
    {
     "data": {
      "text/html": [
       "<pre style=\"overflow: auto; white-space: pre;\">(3, 0): ───Ry(0.134π)───@───@───Ry(-1.89π)───@───Ry(-1.95π)───@───@───Ry(0.467π)───\n",
       "                        │   │                │                │   │\n",
       "(4, 0): ───Ry(0.627π)───X───┼────────────────@────────────────@───┼────────────────\n",
       "                            │                │                │   │\n",
       "(5, 0): ───Ry(0.562π)───────X────────────────X────────────────X───X────────────────</pre>"
      ],
      "text/plain": [
       "(3, 0): ───Ry(0.134π)───@───@───Ry(-1.89π)───@───Ry(-1.95π)───@───@───Ry(0.467π)───\n",
       "                        │   │                │                │   │\n",
       "(4, 0): ───Ry(0.627π)───X───┼────────────────@────────────────@───┼────────────────\n",
       "                            │                │                │   │\n",
       "(5, 0): ───Ry(0.562π)───────X────────────────X────────────────X───X────────────────"
      ]
     },
     "execution_count": 7,
     "metadata": {},
     "output_type": "execute_result"
    }
   ],
   "source": [
    "#\n",
    "c1"
   ]
  },
  {
   "cell_type": "code",
   "execution_count": 8,
   "metadata": {},
   "outputs": [],
   "source": [
    "# get sorted list from frozen set, sorted by row\n",
    "qbits_c1 = sorted(list(c1.all_qubits()), key=lambda x: x.row)\n",
    "qbits_c2 = sorted(list(c2.all_qubits()), key=lambda x: x.row)\n"
   ]
  },
  {
   "cell_type": "code",
   "execution_count": null,
   "metadata": {},
   "outputs": [],
   "source": []
  },
  {
   "cell_type": "code",
   "execution_count": 9,
   "metadata": {},
   "outputs": [],
   "source": [
    "# make swaptest\n",
    "output_qubit = cirq.GridQubit(6, 0)"
   ]
  },
  {
   "cell_type": "code",
   "execution_count": 10,
   "metadata": {},
   "outputs": [
    {
     "data": {
      "text/html": [
       "<pre style=\"overflow: auto; white-space: pre;\">(0, 0): ───────────────────────────────────────────────────────────────────────────────Ry(-1.69π)───@───@───Ry(1.79π)───@───Ry(-1.99π)───@───@───Ry(1.89π)───×───────────────────\n",
       "                                                                                                    │   │               │                │   │               │\n",
       "(1, 0): ───────────────────────────────────────────────────────────────────────────────Ry(0.5π)─────X───┼───────────────@────────────────@───┼───────────────┼───×───────────────\n",
       "                                                                                                        │               │                │   │               │   │\n",
       "(2, 0): ───────────────────────────────────────────────────────────────────────────────Ry(0.5π)─────────X───────────────X────────────────X───X───────────────┼───┼───×───────────\n",
       "                                                                                                                                                             │   │   │\n",
       "(3, 0): ───────Ry(0.134π)───@───@───Ry(-1.89π)───@───Ry(-1.95π)───@───@───Ry(0.467π)─────────────────────────────────────────────────────────────────────────×───┼───┼───────────\n",
       "                            │   │                │                │   │                                                                                      │   │   │\n",
       "(4, 0): ───────Ry(0.627π)───X───┼────────────────@────────────────@───┼──────────────────────────────────────────────────────────────────────────────────────┼───×───┼───────────\n",
       "                                │                │                │   │                                                                                      │   │   │\n",
       "(5, 0): ───────Ry(0.562π)───────X────────────────X────────────────X───X──────────────────────────────────────────────────────────────────────────────────────┼───┼───×───────────\n",
       "                                                                                                                                                             │   │   │\n",
       "(6, 0): ───H─────────────────────────────────────────────────────────────────────────────────────────────────────────────────────────────────────────────────@───@───@───H───M───</pre>"
      ],
      "text/plain": [
       "(0, 0): ───────────────────────────────────────────────────────────────────────────────Ry(-1.69π)───@───@───Ry(1.79π)───@───Ry(-1.99π)───@───@───Ry(1.89π)───×───────────────────\n",
       "                                                                                                    │   │               │                │   │               │\n",
       "(1, 0): ───────────────────────────────────────────────────────────────────────────────Ry(0.5π)─────X───┼───────────────@────────────────@───┼───────────────┼───×───────────────\n",
       "                                                                                                        │               │                │   │               │   │\n",
       "(2, 0): ───────────────────────────────────────────────────────────────────────────────Ry(0.5π)─────────X───────────────X────────────────X───X───────────────┼───┼───×───────────\n",
       "                                                                                                                                                             │   │   │\n",
       "(3, 0): ───────Ry(0.134π)───@───@───Ry(-1.89π)───@───Ry(-1.95π)───@───@───Ry(0.467π)─────────────────────────────────────────────────────────────────────────×───┼───┼───────────\n",
       "                            │   │                │                │   │                                                                                      │   │   │\n",
       "(4, 0): ───────Ry(0.627π)───X───┼────────────────@────────────────@───┼──────────────────────────────────────────────────────────────────────────────────────┼───×───┼───────────\n",
       "                                │                │                │   │                                                                                      │   │   │\n",
       "(5, 0): ───────Ry(0.562π)───────X────────────────X────────────────X───X──────────────────────────────────────────────────────────────────────────────────────┼───┼───×───────────\n",
       "                                                                                                                                                             │   │   │\n",
       "(6, 0): ───H─────────────────────────────────────────────────────────────────────────────────────────────────────────────────────────────────────────────────@───@───@───H───M───"
      ]
     },
     "execution_count": 10,
     "metadata": {},
     "output_type": "execute_result"
    }
   ],
   "source": [
    "n_qubits = 3\n",
    "c = cirq.Circuit()\n",
    "# initialize qubits\n",
    "c.append(cirq.H(output_qubit))\n",
    "c.append(c1)\n",
    "c.append(c2)\n",
    "# swap pairs\n",
    "c.append([cirq.CSWAP(output_qubit, qbits_c1[i], qbits_c2[i]) \n",
    "          for i in range(n_qubits)\n",
    "         ])\n",
    "c.append(cirq.H(output_qubit))\n",
    "c.append(cirq.measure(output_qubit))\n",
    "c"
   ]
  },
  {
   "cell_type": "code",
   "execution_count": 11,
   "metadata": {},
   "outputs": [
    {
     "name": "stdout",
     "output_type": "stream",
     "text": [
      "P0 0.56238\n",
      "vectors have dot product of  0.3500963070465385\n",
      "estimated dot product:  0.3532138162643132\n"
     ]
    }
   ],
   "source": [
    "#\n",
    "n_csamples = 100000\n",
    "simulator = cirq.Simulator()\n",
    "result = simulator.run(c,repetitions=n_csamples)\n",
    "measurement_mean = result.data.mean().values[0]\n",
    "P0 = np.maximum((1 - measurement_mean),0.5)\n",
    "print(\"P0\", P0)\n",
    "estim = (2*(P0 - 0.5))**0.5\n",
    "print(\"vectors have dot product of \", true_dotprod)\n",
    "print(\"estimated dot product: \", estim)"
   ]
  },
  {
   "cell_type": "code",
   "execution_count": 58,
   "metadata": {},
   "outputs": [],
   "source": [
    "#\n"
   ]
  },
  {
   "cell_type": "code",
   "execution_count": 20,
   "metadata": {},
   "outputs": [],
   "source": [
    "#"
   ]
  }
 ],
 "metadata": {
  "kernelspec": {
   "display_name": "Python 3",
   "language": "python",
   "name": "python3"
  },
  "language_info": {
   "codemirror_mode": {
    "name": "ipython",
    "version": 3
   },
   "file_extension": ".py",
   "mimetype": "text/x-python",
   "name": "python",
   "nbconvert_exporter": "python",
   "pygments_lexer": "ipython3",
   "version": "3.8.5"
  }
 },
 "nbformat": 4,
 "nbformat_minor": 4
}
