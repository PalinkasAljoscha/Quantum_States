{
 "cells": [
  {
   "cell_type": "markdown",
   "metadata": {},
   "source": [
    "### State generation and swap product\n"
   ]
  },
  {
   "cell_type": "code",
   "execution_count": 1,
   "metadata": {},
   "outputs": [],
   "source": [
    "%load_ext autoreload\n",
    "%autoreload 2\n",
    "\n",
    "import cirq\n",
    "import numpy as np\n",
    "import sys\n",
    "\n",
    "sys.path.append(\"C:/Users/Alj/CODING/projects/Quantum_Computing\")\n",
    "from state_generation import StateMaker, sphere_samples"
   ]
  },
  {
   "cell_type": "code",
   "execution_count": 2,
   "metadata": {},
   "outputs": [],
   "source": []
  },
  {
   "cell_type": "code",
   "execution_count": 2,
   "metadata": {},
   "outputs": [
    {
     "name": "stdout",
     "output_type": "stream",
     "text": [
      "WARNING: do not print/show the symbolic operator in notebook, it would make it crash, since too large - just print single column instead\n"
     ]
    }
   ],
   "source": [
    "sm = StateMaker()\n",
    "sm.set_default_operator()\n",
    "n = 3"
   ]
  },
  {
   "cell_type": "code",
   "execution_count": 3,
   "metadata": {},
   "outputs": [
    {
     "data": {
      "text/plain": [
       "array([0.20418631, 0.57639286, 0.14528036, 0.6710828 , 0.11666738,\n",
       "       0.29039587, 0.05697107, 0.23115789])"
      ]
     },
     "execution_count": 3,
     "metadata": {},
     "output_type": "execute_result"
    }
   ],
   "source": [
    "\n",
    "target = sphere_samples(n_dim=2**n, n_samples=1, subset=\"non-negative\").flatten()\n",
    "target"
   ]
  },
  {
   "cell_type": "code",
   "execution_count": 4,
   "metadata": {},
   "outputs": [
    {
     "name": "stdout",
     "output_type": "stream",
     "text": [
      "arguments of state_generator: {phi_1, phi_4, phi_5, phi_0, phi_2, phi_3}\n",
      "target vector was scaled by  0.07001400420140048  to be unit vector\n",
      "arguments of state_generator: {phi_1, phi_4, phi_5, phi_0, phi_2, phi_3}\n",
      "target vector was scaled by  0.1  to be unit vector\n"
     ]
    }
   ],
   "source": [
    "t1 = np.array([1,2,3,4,5,6,7,8])\n",
    "t2 = np.array([5,5,5,5,0,0,0,0])\n",
    "\n",
    "res1 = sm.approx_target_state(t1)\n",
    "res2 = sm.approx_target_state(t2)"
   ]
  },
  {
   "cell_type": "code",
   "execution_count": 5,
   "metadata": {},
   "outputs": [
    {
     "name": "stdout",
     "output_type": "stream",
     "text": [
      "vectors have dot product of  0.35009626115339393\n"
     ]
    }
   ],
   "source": [
    "true_dotprod = np.abs(np.vdot(res1[\"state_approx\"], res2[\"state_approx\"]))\n",
    "print(\"vectors have dot product of \", true_dotprod)"
   ]
  },
  {
   "cell_type": "code",
   "execution_count": 7,
   "metadata": {},
   "outputs": [],
   "source": [
    "#\n",
    "c1 = sm.get_circ_of_default_op(res1[\"arg_angles\"])\n",
    "c2 = sm.get_circ_of_default_op(res2[\"arg_angles\"])\n",
    "\n",
    "# shift qbits of one circuit to avoid duplicate qbits in swap test\n",
    "def shift_qbits(qbit):\n",
    "    row = qbit.row\n",
    "    return cirq.GridQubit(row+3, 0)\n",
    "c1 = c1.transform_qubits(shift_qbits)"
   ]
  },
  {
   "cell_type": "code",
   "execution_count": 59,
   "metadata": {},
   "outputs": [],
   "source": []
  },
  {
   "cell_type": "code",
   "execution_count": 7,
   "metadata": {},
   "outputs": [
    {
     "data": {
      "text/html": [
       "<pre style=\"overflow: auto; white-space: pre;\">(3, 0): ───Ry(0.134π)───@───@───Ry(-1.89π)───@───Ry(-1.95π)───@───@───Ry(0.467π)───\n",
       "                        │   │                │                │   │\n",
       "(4, 0): ───Ry(0.627π)───X───┼────────────────@────────────────@───┼────────────────\n",
       "                            │                │                │   │\n",
       "(5, 0): ───Ry(0.562π)───────X────────────────X────────────────X───X────────────────</pre>"
      ],
      "text/plain": [
       "(3, 0): ───Ry(0.134π)───@───@───Ry(-1.89π)───@───Ry(-1.95π)───@───@───Ry(0.467π)───\n",
       "                        │   │                │                │   │\n",
       "(4, 0): ───Ry(0.627π)───X───┼────────────────@────────────────@───┼────────────────\n",
       "                            │                │                │   │\n",
       "(5, 0): ───Ry(0.562π)───────X────────────────X────────────────X───X────────────────"
      ]
     },
     "execution_count": 7,
     "metadata": {},
     "output_type": "execute_result"
    }
   ],
   "source": [
    "#\n",
    "c1"
   ]
  },
  {
   "cell_type": "code",
   "execution_count": 9,
   "metadata": {},
   "outputs": [],
   "source": [
    "# get sorted list from frozen set, sorted by row\n",
    "qbits_c1 = sorted(list(c1.all_qubits()), key=lambda x: x.row)\n",
    "qbits_c2 = sorted(list(c2.all_qubits()), key=lambda x: x.row)\n"
   ]
  },
  {
   "cell_type": "code",
   "execution_count": null,
   "metadata": {},
   "outputs": [],
   "source": []
  },
  {
   "cell_type": "code",
   "execution_count": 10,
   "metadata": {},
   "outputs": [],
   "source": [
    "# make swaptest\n",
    "output_qubit = cirq.GridQubit(6, 0)"
   ]
  },
  {
   "cell_type": "code",
   "execution_count": 11,
   "metadata": {},
   "outputs": [
    {
     "data": {
      "text/html": [
       "<pre style=\"overflow: auto; white-space: pre;\">(0, 0): ─────────────────────────────────────────────────────────────────────────────Ry(-1.92π)───@───@───Ry(1.78π)───@───Ry(-1.15π)───@───@───Ry(-0.71π)───×───────────────────\n",
       "                                                                                                  │   │               │                │   │                │\n",
       "(1, 0): ─────────────────────────────────────────────────────────────────────────────Ry(0.5π)─────X───┼───────────────@────────────────@───┼────────────────┼───×───────────────\n",
       "                                                                                                      │               │                │   │                │   │\n",
       "(2, 0): ─────────────────────────────────────────────────────────────────────────────Ry(-1.5π)────────X───────────────X────────────────X───X────────────────┼───┼───×───────────\n",
       "                                                                                                                                                            │   │   │\n",
       "(3, 0): ───────Ry(0.134π)───@───@───Ry(1.11π)───@───Ry(0.054π)───@───@───Ry(1.47π)──────────────────────────────────────────────────────────────────────────×───┼───┼───────────\n",
       "                            │   │               │                │   │                                                                                      │   │   │\n",
       "(4, 0): ───────Ry(0.627π)───X───┼───────────────@────────────────@───┼──────────────────────────────────────────────────────────────────────────────────────┼───×───┼───────────\n",
       "                                │               │                │   │                                                                                      │   │   │\n",
       "(5, 0): ───────Ry(-1.56π)───────X───────────────X────────────────X───X──────────────────────────────────────────────────────────────────────────────────────┼───┼───×───────────\n",
       "                                                                                                                                                            │   │   │\n",
       "(6, 0): ───H────────────────────────────────────────────────────────────────────────────────────────────────────────────────────────────────────────────────@───@───@───H───M───</pre>"
      ],
      "text/plain": [
       "(0, 0): ─────────────────────────────────────────────────────────────────────────────Ry(-1.92π)───@───@───Ry(1.78π)───@───Ry(-1.15π)───@───@───Ry(-0.71π)───×───────────────────\n",
       "                                                                                                  │   │               │                │   │                │\n",
       "(1, 0): ─────────────────────────────────────────────────────────────────────────────Ry(0.5π)─────X───┼───────────────@────────────────@───┼────────────────┼───×───────────────\n",
       "                                                                                                      │               │                │   │                │   │\n",
       "(2, 0): ─────────────────────────────────────────────────────────────────────────────Ry(-1.5π)────────X───────────────X────────────────X───X────────────────┼───┼───×───────────\n",
       "                                                                                                                                                            │   │   │\n",
       "(3, 0): ───────Ry(0.134π)───@───@───Ry(1.11π)───@───Ry(0.054π)───@───@───Ry(1.47π)──────────────────────────────────────────────────────────────────────────×───┼───┼───────────\n",
       "                            │   │               │                │   │                                                                                      │   │   │\n",
       "(4, 0): ───────Ry(0.627π)───X───┼───────────────@────────────────@───┼──────────────────────────────────────────────────────────────────────────────────────┼───×───┼───────────\n",
       "                                │               │                │   │                                                                                      │   │   │\n",
       "(5, 0): ───────Ry(-1.56π)───────X───────────────X────────────────X───X──────────────────────────────────────────────────────────────────────────────────────┼───┼───×───────────\n",
       "                                                                                                                                                            │   │   │\n",
       "(6, 0): ───H────────────────────────────────────────────────────────────────────────────────────────────────────────────────────────────────────────────────@───@───@───H───M───"
      ]
     },
     "execution_count": 11,
     "metadata": {},
     "output_type": "execute_result"
    }
   ],
   "source": [
    "n_qubits = 3\n",
    "c = cirq.Circuit()\n",
    "# initialize qubits\n",
    "c.append(cirq.H(output_qubit))\n",
    "c.append(c1)\n",
    "c.append(c2)\n",
    "# swap pairs\n",
    "c.append([cirq.CSWAP(output_qubit, qbits_c1[i], qbits_c2[i]) \n",
    "          for i in range(n_qubits)\n",
    "         ])\n",
    "c.append(cirq.H(output_qubit))\n",
    "c.append(cirq.measure(output_qubit))\n",
    "c"
   ]
  },
  {
   "cell_type": "code",
   "execution_count": 12,
   "metadata": {},
   "outputs": [
    {
     "name": "stdout",
     "output_type": "stream",
     "text": [
      "P0 0.5613600000000001\n",
      "vectors have dot product of  0.35009626115339393\n",
      "estimated dot product:  0.3503141447329813\n"
     ]
    }
   ],
   "source": [
    "#\n",
    "n_csamples = 100000\n",
    "simulator = cirq.Simulator()\n",
    "result = simulator.run(c,repetitions=n_csamples)\n",
    "measurement_mean = result.data.mean().values[0]\n",
    "P0 = np.maximum((1 - measurement_mean),0.5)\n",
    "print(\"P0\", P0)\n",
    "estim = (2*(P0 - 0.5))**0.5\n",
    "print(\"vectors have dot product of \", true_dotprod)\n",
    "print(\"estimated dot product: \", estim)"
   ]
  },
  {
   "cell_type": "code",
   "execution_count": 58,
   "metadata": {},
   "outputs": [],
   "source": [
    "#\n"
   ]
  },
  {
   "cell_type": "code",
   "execution_count": 20,
   "metadata": {},
   "outputs": [],
   "source": [
    "#"
   ]
  }
 ],
 "metadata": {
  "kernelspec": {
   "display_name": "Python 3.8.5 ('base')",
   "language": "python",
   "name": "python3"
  },
  "language_info": {
   "codemirror_mode": {
    "name": "ipython",
    "version": 3
   },
   "file_extension": ".py",
   "mimetype": "text/x-python",
   "name": "python",
   "nbconvert_exporter": "python",
   "pygments_lexer": "ipython3",
   "version": "3.8.5"
  },
  "vscode": {
   "interpreter": {
    "hash": "5d41b2972de3a62376174166eec02480fd478480fa849b981774974e6702a3c8"
   }
  }
 },
 "nbformat": 4,
 "nbformat_minor": 4
}
