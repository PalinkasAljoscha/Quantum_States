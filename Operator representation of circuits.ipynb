{
 "cells": [
  {
   "cell_type": "markdown",
   "metadata": {},
   "source": [
    "## Constructing matrix representations of circuits\n",
    "\n",
    "symbolic presenation of circuit operators can be constructed with [sympy](https://www.sympy.org/en/index.html). they can be used to analyse which states a circuit can produce and how this depends on the gate parameters. a function from parameters to final states of circuit can be [lambdyfied](https://docs.sympy.org/latest/modules/utilities/lambdify.html) from the symbolic operator in the other notebooks this approach is used\n",
    "\n",
    "### General \n",
    "A quantum gate operating on one qbit is represented by a $2\\times 2$ unitary matrix. In a circuit of $n$ qbits the action of a gate is described by $2^n$-dimensional unitary matrix operators.\n",
    "\n",
    "In Cirq, a circuit is 'bucketed' into moments, 'A Moment is a collection of Operations that all act during the same abstract time slice'. In particular in one moment each qbit is acted on by at most one gate. The whole moment can be described by a operator matrix. This matrix is obtained as the tensor product of the operators applied to each qbit. If no gate is applied to a qbit, the identity operator will be inserted in the tensor product.  \n",
    "The whole circuit is then a sequence of moments and the operators for the moments are applied in sequence. In terms of the matrices that means that the matrix operator for the whole circuit is just the matrix product of the operators of all the moments. Note that the left-most moment in the circuit diagram corresponds to the right-most matrix in matrix product notation.\n",
    "\n",
    "### Use of symbolic matrices\n",
    "Many gates are parametrized, e.g. with a radian, and to understand the operator of the whole circuit it is useful to see and use the symbolic matrix operator.\n",
    "This can be done with sympy, by contructing the operator of the circuit from the symbolic operators for each gate. In sympy we can labdify this symbolic matrix, and then have a function from parameters to operators.\n",
    "\n",
    "### 2 qbits example circuit presented in this notebook\n",
    "\n",
    "1. one moment circuit is defined with Cirq, including y-rotation gate parametrized by radians $\\phi$\n",
    "2. a symbolic matrix operator is contructed \n",
    "3. the matrix is evaluated to check equality to cirq circuit\n",
    "4. the curcuit is extended by second moment, including y-rotation gate parametrized by radians $\\theta$\n",
    "5. symbolic matrix for second moment is constructed, and evaluated\n",
    "6. observation that moments can be re-organized\n"
   ]
  },
  {
   "cell_type": "code",
   "execution_count": 26,
   "metadata": {},
   "outputs": [],
   "source": [
    "import cirq\n",
    "import numpy as np\n",
    "import sympy as sp\n",
    "from sympy.physics.quantum import TensorProduct"
   ]
  },
  {
   "cell_type": "markdown",
   "metadata": {},
   "source": [
    "#### define symbols for symbolic matrix and the matrix operators to construct circuit"
   ]
  },
  {
   "cell_type": "code",
   "execution_count": 2,
   "metadata": {},
   "outputs": [],
   "source": [
    "phi = sp.symbols(\"phi\")\n",
    "theta = sp.symbols(\"theta\")\n",
    "# define the four 2x2 operators\n",
    "yrotation_1 = sp.Matrix([[sp.cos(phi/2),-sp.sin(phi/2)], \n",
    "                                [sp.sin(phi/2), sp.cos(phi/2)]])\n",
    "yrotation_2 = sp.Matrix([[sp.cos(theta/2),-sp.sin(theta/2)], \n",
    "                                [sp.sin(theta/2), sp.cos(theta/2)]])\n",
    "X = sp.Matrix([[0,1], [1,0]])\n",
    "identity = sp.Matrix([[1,0],[0,1]]) "
   ]
  },
  {
   "cell_type": "markdown",
   "metadata": {},
   "source": [
    "#### create circuit with one moment\n",
    "apply a y-rotation on the first qbit and the X-gate on the second qbit  \n",
    "value of angle $\\phi$ of the y-rotation is set to $0.3 \\pi$  \n",
    "use cirq to define the circuit, print the circuit schema and the unitary operator defined by the circuit"
   ]
  },
  {
   "cell_type": "code",
   "execution_count": 3,
   "metadata": {},
   "outputs": [
    {
     "name": "stdout",
     "output_type": "stream",
     "text": [
      "the circuit:\n",
      "(0, 0): ───Ry(0.3π)───\n",
      "\n",
      "(0, 1): ───X──────────\n",
      "has unitary operator matrix:\n"
     ]
    },
    {
     "data": {
      "text/latex": [
       "$\\displaystyle \\left[\\begin{matrix}0 & 0.891006524188368 & 0 & -0.453990499739547\\\\0.891006524188368 & 0 & -0.453990499739547 & 0\\\\0 & 0.453990499739547 & 0 & 0.891006524188368\\\\0.453990499739547 & 0 & 0.891006524188368 & 0\\end{matrix}\\right]$"
      ],
      "text/plain": [
       "Matrix([\n",
       "[                0, 0.891006524188368,                  0, -0.453990499739547],\n",
       "[0.891006524188368,                 0, -0.453990499739547,                  0],\n",
       "[                0, 0.453990499739547,                  0,  0.891006524188368],\n",
       "[0.453990499739547,                 0,  0.891006524188368,                  0]])"
      ]
     },
     "execution_count": 3,
     "metadata": {},
     "output_type": "execute_result"
    }
   ],
   "source": [
    "phi_value = 0.3*np.pi\n",
    "c = cirq.Circuit()\n",
    "c.append([cirq.ry(phi_value)(cirq.GridQubit(0, 0)),\n",
    "          cirq.X.on(cirq.GridQubit(0, 1)),\n",
    "          #cirq.ry(theta_value)(cirq.GridQubit(0, 1))\n",
    "         ])\n",
    "print(\"the circuit:\")        \n",
    "print(c)  \n",
    "print(\"has unitary operator matrix:\")\n",
    "sp.Matrix(c.unitary())"
   ]
  },
  {
   "cell_type": "markdown",
   "metadata": {},
   "source": [
    "#### this circuit is composed of a y-rotation..."
   ]
  },
  {
   "cell_type": "code",
   "execution_count": 4,
   "metadata": {},
   "outputs": [
    {
     "data": {
      "text/latex": [
       "$\\displaystyle \\left[\\begin{matrix}\\cos{\\left(\\frac{\\phi}{2} \\right)} & - \\sin{\\left(\\frac{\\phi}{2} \\right)}\\\\\\sin{\\left(\\frac{\\phi}{2} \\right)} & \\cos{\\left(\\frac{\\phi}{2} \\right)}\\end{matrix}\\right]$"
      ],
      "text/plain": [
       "Matrix([\n",
       "[cos(phi/2), -sin(phi/2)],\n",
       "[sin(phi/2),  cos(phi/2)]])"
      ]
     },
     "execution_count": 4,
     "metadata": {},
     "output_type": "execute_result"
    }
   ],
   "source": [
    "yrotation_1"
   ]
  },
  {
   "cell_type": "markdown",
   "metadata": {},
   "source": [
    "#### ...and the X-operator on the second qbit"
   ]
  },
  {
   "cell_type": "code",
   "execution_count": 5,
   "metadata": {},
   "outputs": [
    {
     "data": {
      "text/latex": [
       "$\\displaystyle \\left[\\begin{matrix}0 & 1\\\\1 & 0\\end{matrix}\\right]$"
      ],
      "text/plain": [
       "Matrix([\n",
       "[0, 1],\n",
       "[1, 0]])"
      ]
     },
     "execution_count": 5,
     "metadata": {},
     "output_type": "execute_result"
    }
   ],
   "source": [
    "X"
   ]
  },
  {
   "cell_type": "markdown",
   "metadata": {},
   "source": [
    "#### the operator of the whole circuit \n",
    "is then the tensor product of the operator applied to the first qbit and the operator applied to the second qbit (in that order, the tensor product is not communitative)"
   ]
  },
  {
   "cell_type": "code",
   "execution_count": 22,
   "metadata": {},
   "outputs": [
    {
     "data": {
      "text/latex": [
       "$\\displaystyle \\left[\\begin{matrix}0 & \\cos{\\left(\\frac{\\phi}{2} \\right)} & 0 & - \\sin{\\left(\\frac{\\phi}{2} \\right)}\\\\\\cos{\\left(\\frac{\\phi}{2} \\right)} & 0 & - \\sin{\\left(\\frac{\\phi}{2} \\right)} & 0\\\\0 & \\sin{\\left(\\frac{\\phi}{2} \\right)} & 0 & \\cos{\\left(\\frac{\\phi}{2} \\right)}\\\\\\sin{\\left(\\frac{\\phi}{2} \\right)} & 0 & \\cos{\\left(\\frac{\\phi}{2} \\right)} & 0\\end{matrix}\\right]$"
      ],
      "text/plain": [
       "Matrix([\n",
       "[         0, cos(phi/2),           0, -sin(phi/2)],\n",
       "[cos(phi/2),          0, -sin(phi/2),           0],\n",
       "[         0, sin(phi/2),           0,  cos(phi/2)],\n",
       "[sin(phi/2),          0,  cos(phi/2),           0]])"
      ]
     },
     "execution_count": 22,
     "metadata": {},
     "output_type": "execute_result"
    }
   ],
   "source": [
    "op_1_symbolic = TensorProduct(yrotation_1, X)\n",
    "op_1_symbolic"
   ]
  },
  {
   "cell_type": "markdown",
   "metadata": {},
   "source": [
    "evaluating this symbolic operator at $\\phi = $ phi_value, gives the same operator as we got from cirq circuit"
   ]
  },
  {
   "cell_type": "code",
   "execution_count": 13,
   "metadata": {},
   "outputs": [
    {
     "data": {
      "text/latex": [
       "$\\displaystyle \\left[\\begin{matrix}0.0 & 0.891006524188368 & 0.0 & -0.453990499739547\\\\0.891006524188368 & 0.0 & -0.453990499739547 & 0.0\\\\0.0 & 0.453990499739547 & 0.0 & 0.891006524188368\\\\0.453990499739547 & 0.0 & 0.891006524188368 & 0.0\\end{matrix}\\right]$"
      ],
      "text/plain": [
       "Matrix([\n",
       "[              0.0, 0.891006524188368,                0.0, -0.453990499739547],\n",
       "[0.891006524188368,               0.0, -0.453990499739547,                0.0],\n",
       "[              0.0, 0.453990499739547,                0.0,  0.891006524188368],\n",
       "[0.453990499739547,               0.0,  0.891006524188368,                0.0]])"
      ]
     },
     "execution_count": 13,
     "metadata": {},
     "output_type": "execute_result"
    }
   ],
   "source": [
    "circ_op = sp.lambdify([phi], op_1_symbolic, 'numpy')\n",
    "sp.Matrix(circ_op(phi_value))"
   ]
  },
  {
   "cell_type": "code",
   "execution_count": null,
   "metadata": {},
   "outputs": [],
   "source": []
  },
  {
   "cell_type": "markdown",
   "metadata": {},
   "source": [
    "#### extending circuit with 2nd moment "
   ]
  },
  {
   "cell_type": "code",
   "execution_count": 23,
   "metadata": {},
   "outputs": [
    {
     "name": "stdout",
     "output_type": "stream",
     "text": [
      "circuit\n",
      "(0, 0): ───Ry(0.3π)──────────────\n",
      "\n",
      "(0, 1): ───X──────────Ry(1.5π)───\n",
      "has unitary operator matrix:\n"
     ]
    },
    {
     "data": {
      "text/latex": [
       "$\\displaystyle \\left[\\begin{matrix}-0.630036755335051 & -0.63003675533505 & 0.321019760960103 & 0.321019760960103\\\\-0.63003675533505 & 0.630036755335051 & 0.321019760960103 & -0.321019760960103\\\\-0.321019760960103 & -0.321019760960103 & -0.630036755335051 & -0.63003675533505\\\\-0.321019760960103 & 0.321019760960103 & -0.63003675533505 & 0.630036755335051\\end{matrix}\\right]$"
      ],
      "text/plain": [
       "Matrix([\n",
       "[-0.630036755335051,  -0.63003675533505,  0.321019760960103,  0.321019760960103],\n",
       "[ -0.63003675533505,  0.630036755335051,  0.321019760960103, -0.321019760960103],\n",
       "[-0.321019760960103, -0.321019760960103, -0.630036755335051,  -0.63003675533505],\n",
       "[-0.321019760960103,  0.321019760960103,  -0.63003675533505,  0.630036755335051]])"
      ]
     },
     "execution_count": 23,
     "metadata": {},
     "output_type": "execute_result"
    }
   ],
   "source": [
    "theta_value = 1.5*np.pi\n",
    "if len(c.moments)==1: # avoid adding several times\n",
    "    c.append([cirq.ry(theta_value)(cirq.GridQubit(0, 1))])\n",
    "\n",
    "print(\"circuit\")\n",
    "print(c)  \n",
    "print(\"has unitary operator matrix:\")\n",
    "sp.Matrix(c.unitary())"
   ]
  },
  {
   "cell_type": "markdown",
   "metadata": {},
   "source": [
    "#### constructing the operator matrix for that extended circuit\n",
    "the second moment of the circuit only acts on the second qbit, with an y-rotation with angle $\\theta$  \n",
    "this second moment is described by the tensor product of identity matrix (no action on first qbit) and the y-rotation matrix with parameter $\\theta$"
   ]
  },
  {
   "cell_type": "code",
   "execution_count": 15,
   "metadata": {},
   "outputs": [
    {
     "data": {
      "text/latex": [
       "$\\displaystyle \\left[\\begin{matrix}\\cos{\\left(\\frac{\\theta}{2} \\right)} & - \\sin{\\left(\\frac{\\theta}{2} \\right)} & 0 & 0\\\\\\sin{\\left(\\frac{\\theta}{2} \\right)} & \\cos{\\left(\\frac{\\theta}{2} \\right)} & 0 & 0\\\\0 & 0 & \\cos{\\left(\\frac{\\theta}{2} \\right)} & - \\sin{\\left(\\frac{\\theta}{2} \\right)}\\\\0 & 0 & \\sin{\\left(\\frac{\\theta}{2} \\right)} & \\cos{\\left(\\frac{\\theta}{2} \\right)}\\end{matrix}\\right]$"
      ],
      "text/plain": [
       "Matrix([\n",
       "[cos(theta/2), -sin(theta/2),            0,             0],\n",
       "[sin(theta/2),  cos(theta/2),            0,             0],\n",
       "[           0,             0, cos(theta/2), -sin(theta/2)],\n",
       "[           0,             0, sin(theta/2),  cos(theta/2)]])"
      ]
     },
     "execution_count": 15,
     "metadata": {},
     "output_type": "execute_result"
    }
   ],
   "source": [
    "op_2_symbolic = TensorProduct(identity, yrotation_2)\n",
    "op_2_symbolic"
   ]
  },
  {
   "cell_type": "markdown",
   "metadata": {},
   "source": [
    "the whole circuit is then the product of the two operators for the first and second moment..."
   ]
  },
  {
   "cell_type": "code",
   "execution_count": 16,
   "metadata": {},
   "outputs": [
    {
     "data": {
      "text/latex": [
       "$\\displaystyle \\left[\\begin{matrix}- \\sin{\\left(\\frac{\\theta}{2} \\right)} \\cos{\\left(\\frac{\\phi}{2} \\right)} & \\cos{\\left(\\frac{\\phi}{2} \\right)} \\cos{\\left(\\frac{\\theta}{2} \\right)} & \\sin{\\left(\\frac{\\phi}{2} \\right)} \\sin{\\left(\\frac{\\theta}{2} \\right)} & - \\sin{\\left(\\frac{\\phi}{2} \\right)} \\cos{\\left(\\frac{\\theta}{2} \\right)}\\\\\\cos{\\left(\\frac{\\phi}{2} \\right)} \\cos{\\left(\\frac{\\theta}{2} \\right)} & \\sin{\\left(\\frac{\\theta}{2} \\right)} \\cos{\\left(\\frac{\\phi}{2} \\right)} & - \\sin{\\left(\\frac{\\phi}{2} \\right)} \\cos{\\left(\\frac{\\theta}{2} \\right)} & - \\sin{\\left(\\frac{\\phi}{2} \\right)} \\sin{\\left(\\frac{\\theta}{2} \\right)}\\\\- \\sin{\\left(\\frac{\\phi}{2} \\right)} \\sin{\\left(\\frac{\\theta}{2} \\right)} & \\sin{\\left(\\frac{\\phi}{2} \\right)} \\cos{\\left(\\frac{\\theta}{2} \\right)} & - \\sin{\\left(\\frac{\\theta}{2} \\right)} \\cos{\\left(\\frac{\\phi}{2} \\right)} & \\cos{\\left(\\frac{\\phi}{2} \\right)} \\cos{\\left(\\frac{\\theta}{2} \\right)}\\\\\\sin{\\left(\\frac{\\phi}{2} \\right)} \\cos{\\left(\\frac{\\theta}{2} \\right)} & \\sin{\\left(\\frac{\\phi}{2} \\right)} \\sin{\\left(\\frac{\\theta}{2} \\right)} & \\cos{\\left(\\frac{\\phi}{2} \\right)} \\cos{\\left(\\frac{\\theta}{2} \\right)} & \\sin{\\left(\\frac{\\theta}{2} \\right)} \\cos{\\left(\\frac{\\phi}{2} \\right)}\\end{matrix}\\right]$"
      ],
      "text/plain": [
       "Matrix([\n",
       "[-sin(theta/2)*cos(phi/2), cos(phi/2)*cos(theta/2),  sin(phi/2)*sin(theta/2), -sin(phi/2)*cos(theta/2)],\n",
       "[ cos(phi/2)*cos(theta/2), sin(theta/2)*cos(phi/2), -sin(phi/2)*cos(theta/2), -sin(phi/2)*sin(theta/2)],\n",
       "[-sin(phi/2)*sin(theta/2), sin(phi/2)*cos(theta/2), -sin(theta/2)*cos(phi/2),  cos(phi/2)*cos(theta/2)],\n",
       "[ sin(phi/2)*cos(theta/2), sin(phi/2)*sin(theta/2),  cos(phi/2)*cos(theta/2),  sin(theta/2)*cos(phi/2)]])"
      ]
     },
     "execution_count": 16,
     "metadata": {},
     "output_type": "execute_result"
    }
   ],
   "source": [
    "circuit_op = op_2_symbolic*op_1_symbolic\n",
    "circuit_op"
   ]
  },
  {
   "cell_type": "markdown",
   "metadata": {},
   "source": [
    "...and evaluating this symbolic operator with parameter $\\theta =$ theta_value, gives same unitary matrix and we got from cirq after appending the second moment ot the circuit"
   ]
  },
  {
   "cell_type": "code",
   "execution_count": 17,
   "metadata": {},
   "outputs": [
    {
     "data": {
      "text/latex": [
       "$\\displaystyle \\left[\\begin{matrix}-0.630036755335051 & -0.63003675533505 & 0.321019760960103 & 0.321019760960103\\\\-0.63003675533505 & 0.630036755335051 & 0.321019760960103 & -0.321019760960103\\\\-0.321019760960103 & -0.321019760960103 & -0.630036755335051 & -0.63003675533505\\\\-0.321019760960103 & 0.321019760960103 & -0.63003675533505 & 0.630036755335051\\end{matrix}\\right]$"
      ],
      "text/plain": [
       "Matrix([\n",
       "[-0.630036755335051,  -0.63003675533505,  0.321019760960103,  0.321019760960103],\n",
       "[ -0.63003675533505,  0.630036755335051,  0.321019760960103, -0.321019760960103],\n",
       "[-0.321019760960103, -0.321019760960103, -0.630036755335051,  -0.63003675533505],\n",
       "[-0.321019760960103,  0.321019760960103,  -0.63003675533505,  0.630036755335051]])"
      ]
     },
     "execution_count": 17,
     "metadata": {},
     "output_type": "execute_result"
    }
   ],
   "source": [
    "circ_op = sp.lambdify([phi, theta], circuit_op, 'numpy')\n",
    "sp.Matrix(circ_op(phi_value, theta_value))"
   ]
  },
  {
   "cell_type": "markdown",
   "metadata": {},
   "source": [
    "#### definition of the two moments in the circuit\n",
    "In the diagram of the whole circuit, on the first qbit $Ry(\\phi)$ is the only operation. in the diagram the gate can move on its line as long as it is not crossing other gates.  \n",
    "in this example that means, the $Ry(\\phi)$ can also be moved left to be part of second moment.\n",
    "\n",
    "In terms of the matrix operators that means, the identity tensor-factor can move from one matrix-factor to the other, exchanging with the first y-rotation:"
   ]
  },
  {
   "cell_type": "code",
   "execution_count": 24,
   "metadata": {},
   "outputs": [
    {
     "data": {
      "text/plain": [
       "True"
      ]
     },
     "execution_count": 24,
     "metadata": {},
     "output_type": "execute_result"
    }
   ],
   "source": [
    "(   TensorProduct(identity, yrotation_2)*TensorProduct(yrotation_1, X) \n",
    " == TensorProduct(yrotation_1, yrotation_2)*TensorProduct(identity, X)) "
   ]
  }
 ],
 "metadata": {
  "kernelspec": {
   "display_name": "Python 3",
   "language": "python",
   "name": "python3"
  },
  "language_info": {
   "codemirror_mode": {
    "name": "ipython",
    "version": 3
   },
   "file_extension": ".py",
   "mimetype": "text/x-python",
   "name": "python",
   "nbconvert_exporter": "python",
   "pygments_lexer": "ipython3",
   "version": "3.8.5"
  }
 },
 "nbformat": 4,
 "nbformat_minor": 4
}
